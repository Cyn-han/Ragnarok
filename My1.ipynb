{
 "cells": [
  {
   "cell_type": "code",
   "id": "initial_id",
   "metadata": {
    "collapsed": true,
    "ExecuteTime": {
     "end_time": "2024-07-12T15:23:11.018328Z",
     "start_time": "2024-07-12T15:23:11.011671Z"
    }
   },
   "source": [
    ""
   ],
   "outputs": [],
   "execution_count": 16
  },
  {
   "metadata": {
    "ExecuteTime": {
     "end_time": "2024-07-12T15:23:11.095009Z",
     "start_time": "2024-07-12T15:23:11.086574Z"
    }
   },
   "cell_type": "code",
   "source": [
    "import torch\n",
    "import torch.nn as nn\n",
    "import torch.optim as optim\n",
    "from torchvision import datasets, transforms\n",
    "import matplotlib.pyplot as plt"
   ],
   "id": "be93657921bbedb6",
   "outputs": [],
   "execution_count": 17
  },
  {
   "metadata": {
    "ExecuteTime": {
     "end_time": "2024-07-12T15:23:11.184565Z",
     "start_time": "2024-07-12T15:23:11.112142Z"
    }
   },
   "cell_type": "code",
   "source": [
    "transform = transforms.Compose([transforms.ToTensor()])\n",
    "\n",
    "train_dataset = datasets.MNIST(root='./data', train=True, transform=transform, download=True)\n",
    "train_loader = torch.utils.data.DataLoader(dataset=train_dataset, batch_size=64, shuffle=True)"
   ],
   "id": "f228a033ce52b0a7",
   "outputs": [],
   "execution_count": 18
  },
  {
   "metadata": {
    "ExecuteTime": {
     "end_time": "2024-07-12T15:23:11.223097Z",
     "start_time": "2024-07-12T15:23:11.206017Z"
    }
   },
   "cell_type": "code",
   "source": [
    "class Autoencoder(nn.Module):\n",
    "    def __init__(self):\n",
    "        super(Autoencoder, self).__init__()\n",
    "        # 编码器\n",
    "        self.encoder = nn.Sequential(\n",
    "            nn.Linear(28 * 28, 128),\n",
    "            nn.ReLU(),\n",
    "            nn.Linear(128, 64),\n",
    "            nn.ReLU(),\n",
    "            nn.Linear(64, 32)\n",
    "        )\n",
    "        # 解码器\n",
    "        self.decoder = nn.Sequential(\n",
    "            nn.Linear(32, 64),\n",
    "            nn.ReLU(),\n",
    "            nn.Linear(64, 128),\n",
    "            nn.ReLU(),\n",
    "            nn.Linear(128, 28 * 28),\n",
    "            nn.Sigmoid()\n",
    "        )\n",
    "\n",
    "    def forward(self, x):\n",
    "        x = self.encoder(x)\n",
    "        x = self.decoder(x)\n",
    "        return x\n",
    "\n",
    "# 创建模型实例\n",
    "model = Autoencoder()"
   ],
   "id": "f199bd6f3e7901d2",
   "outputs": [],
   "execution_count": 19
  },
  {
   "metadata": {
    "ExecuteTime": {
     "end_time": "2024-07-12T15:23:11.233408Z",
     "start_time": "2024-07-12T15:23:11.225602Z"
    }
   },
   "cell_type": "code",
   "source": [
    "criterion = nn.MSELoss()\n",
    "optimizer = optim.Adam(model.parameters(), lr=0.001)"
   ],
   "id": "31e320f76ed28094",
   "outputs": [],
   "execution_count": 20
  },
  {
   "metadata": {
    "ExecuteTime": {
     "end_time": "2024-07-12T15:27:58.840491Z",
     "start_time": "2024-07-12T15:23:11.241733Z"
    }
   },
   "cell_type": "code",
   "source": [
    "num_epochs = 20\n",
    "\n",
    "for epoch in range(num_epochs):\n",
    "    for data in train_loader:\n",
    "        inputs, _ = data\n",
    "        inputs = inputs.view(-1, 28 * 28)  # 将图像展平为向量\n",
    "\n",
    "        # 前向传播\n",
    "        outputs = model(inputs)\n",
    "        loss = criterion(outputs, inputs)\n",
    "\n",
    "        # 反向传播和优化\n",
    "        optimizer.zero_grad()\n",
    "        loss.backward()\n",
    "        optimizer.step()\n",
    "\n",
    "    print(f'Epoch [{epoch+1}/{num_epochs}], Loss: {loss.item():.4f}')"
   ],
   "id": "851e4ee72db552c6",
   "outputs": [
    {
     "name": "stdout",
     "output_type": "stream",
     "text": [
      "Epoch [1/20], Loss: 0.0268\n",
      "Epoch [2/20], Loss: 0.0221\n",
      "Epoch [3/20], Loss: 0.0195\n",
      "Epoch [4/20], Loss: 0.0159\n",
      "Epoch [5/20], Loss: 0.0156\n",
      "Epoch [6/20], Loss: 0.0114\n",
      "Epoch [7/20], Loss: 0.0142\n",
      "Epoch [8/20], Loss: 0.0130\n",
      "Epoch [9/20], Loss: 0.0091\n",
      "Epoch [10/20], Loss: 0.0114\n",
      "Epoch [11/20], Loss: 0.0082\n",
      "Epoch [12/20], Loss: 0.0097\n",
      "Epoch [13/20], Loss: 0.0078\n",
      "Epoch [14/20], Loss: 0.0091\n",
      "Epoch [15/20], Loss: 0.0092\n",
      "Epoch [16/20], Loss: 0.0073\n",
      "Epoch [17/20], Loss: 0.0089\n",
      "Epoch [18/20], Loss: 0.0082\n",
      "Epoch [19/20], Loss: 0.0075\n",
      "Epoch [20/20], Loss: 0.0080\n"
     ]
    }
   ],
   "execution_count": 21
  },
  {
   "metadata": {
    "ExecuteTime": {
     "end_time": "2024-07-12T15:27:59.689338Z",
     "start_time": "2024-07-12T15:27:58.841998Z"
    }
   },
   "cell_type": "code",
   "source": [
    "# 加载测试数据\n",
    "test_dataset = datasets.MNIST(root='./data', train=False, transform=transform, download=True)\n",
    "test_loader = torch.utils.data.DataLoader(dataset=test_dataset, batch_size=10, shuffle=False)\n",
    "\n",
    "# 获取一些测试数据\n",
    "dataiter = iter(test_loader)\n",
    "images, labels = dataiter.__next__()\n",
    "images_flat = images.view(-1, 28 * 28)\n",
    "\n",
    "# 使用模型进行重建\n",
    "outputs = model(images_flat)\n",
    "\n",
    "# 可视化原始图像和重建图像\n",
    "fig, axes = plt.subplots(nrows=2, ncols=10, sharex=True, sharey=True, figsize=(20, 4))\n",
    "\n",
    "for images, row in zip([images, outputs], axes):\n",
    "    for img, ax in zip(images, row):\n",
    "        ax.imshow(img.view(28, 28).detach().numpy(), cmap='gray')\n",
    "        ax.get_xaxis().set_visible(False)\n",
    "        ax.get_yaxis().set_visible(False)\n",
    "\n",
    "plt.show()\n"
   ],
   "id": "54c38dc2c3f557e4",
   "outputs": [
    {
     "data": {
      "text/plain": [
       "<Figure size 2000x400 with 20 Axes>"
      ],
      "image/png": "[encoded data removed]"
     },
     "metadata": {},
     "output_type": "display_data"
    }
   ],
   "execution_count": 22
  },
  {
   "metadata": {
    "ExecuteTime": {
     "end_time": "2024-07-12T15:27:59.695597Z",
     "start_time": "2024-07-12T15:27:59.691341Z"
    }
   },
   "cell_type": "code",
   "source": "",
   "id": "772c1d56b9d6b5c1",
   "outputs": [],
   "execution_count": 22
  }
 ],
 "metadata": {
  "kernelspec": {
   "display_name": "Python 3",
   "language": "python",
   "name": "python3"
  },
  "language_info": {
   "codemirror_mode": {
    "name": "ipython",
    "version": 2
   },
   "file_extension": ".py",
   "mimetype": "text/x-python",
   "name": "python",
   "nbconvert_exporter": "python",
   "pygments_lexer": "ipython2",
   "version": "2.7.6"
  }
 },
 "nbformat": 4,
 "nbformat_minor": 5
}
