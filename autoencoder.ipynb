{
 "cells": [
  {
   "metadata": {
    "ExecuteTime": {
     "end_time": "2024-08-04T16:39:50.222925Z",
     "start_time": "2024-08-04T16:39:45.866887Z"
    }
   },
   "cell_type": "code",
   "source": [
    "# 定义原始矩阵\n",
    "import anndata as ad\n",
    "import numpy as np\n",
    "adata = ad.read_h5ad(\"D:\\新建文件夹 (7)\\m_ako_part1\").X\n",
    "subset_adata = adata[:100, :100]"
   ],
   "id": "b3bcdae7908943be",
   "outputs": [],
   "execution_count": 7
  },
  {
   "metadata": {
    "ExecuteTime": {
     "end_time": "2024-08-05T00:47:18.811694Z",
     "start_time": "2024-08-05T00:47:06.543859Z"
    }
   },
   "cell_type": "code",
   "source": [
    "import anndata as ad\n",
    "import numpy as np\n",
    "from keras.layers import Input, Dense\n",
    "from keras.models import Model\n",
    "\n",
    "# 加载数据\n",
    "adata = ad.read_h5ad(\"D:\\\\新建文件夹 (7)\\\\m_ako_part1\")\n",
    "# 提取矩阵数据\n",
    "original_data = adata.X[:100, :100]\n",
    "\n",
    "# 定义自动编码器的输入层\n",
    "input_size = original_data.shape[1]  # 输入层的维度\n",
    "input_layer = Input(shape=(input_size,))\n",
    "\n",
    "# 编码层\n",
    "encoded = Dense(64, activation='relu')(input_layer)\n",
    "encoded = Dense(32, activation='relu')(encoded)\n",
    "\n",
    "# 解码层\n",
    "decoded = Dense(64, activation='relu')(encoded)\n",
    "decoded = Dense(input_size, activation='sigmoid')(decoded)\n",
    "\n",
    "# 将输入层和输出层连接起来构建自动编码器模型\n",
    "autoencoder = Model(input_layer, decoded)\n",
    "\n",
    "# 编译自动编码器模型\n",
    "autoencoder.compile(optimizer='adam', loss='binary_crossentropy')\n",
    "\n",
    "# 训练自动编码器\n",
    "autoencoder.fit(original_data, original_data, epochs=50, batch_size=256, shuffle=True)\n",
    "\n",
    "# 使用自动编码器重建数据\n",
    "reconstructed_data = autoencoder.predict(original_data)\n",
    "\n",
    "# 打印重建数据与原始数据对比\n",
    "print(\"Original Data:\\n\", original_data)\n",
    "print(\"Reconstructed Data:\\n\", reconstructed_data)\n"
   ],
   "id": "f6579ce5b2f70b4a",
   "outputs": [
    {
     "name": "stdout",
     "output_type": "stream",
     "text": [
      "Epoch 1/50\n",
      "\u001B[1m1/1\u001B[0m \u001B[32m━━━━━━━━━━━━━━━━━━━━\u001B[0m\u001B[37m\u001B[0m \u001B[1m2s\u001B[0m 2s/step - loss: 0.6923\n",
      "Epoch 2/50\n",
      "\u001B[1m1/1\u001B[0m \u001B[32m━━━━━━━━━━━━━━━━━━━━\u001B[0m\u001B[37m\u001B[0m \u001B[1m0s\u001B[0m 41ms/step - loss: 0.6909\n",
      "Epoch 3/50\n",
      "\u001B[1m1/1\u001B[0m \u001B[32m━━━━━━━━━━━━━━━━━━━━\u001B[0m\u001B[37m\u001B[0m \u001B[1m0s\u001B[0m 31ms/step - loss: 0.6894\n",
      "Epoch 4/50\n",
      "\u001B[1m1/1\u001B[0m \u001B[32m━━━━━━━━━━━━━━━━━━━━\u001B[0m\u001B[37m\u001B[0m \u001B[1m0s\u001B[0m 35ms/step - loss: 0.6877\n",
      "Epoch 5/50\n",
      "\u001B[1m1/1\u001B[0m \u001B[32m━━━━━━━━━━━━━━━━━━━━\u001B[0m\u001B[37m\u001B[0m \u001B[1m0s\u001B[0m 32ms/step - loss: 0.6859\n",
      "Epoch 6/50\n",
      "\u001B[1m1/1\u001B[0m \u001B[32m━━━━━━━━━━━━━━━━━━━━\u001B[0m\u001B[37m\u001B[0m \u001B[1m0s\u001B[0m 32ms/step - loss: 0.6839\n",
      "Epoch 7/50\n",
      "\u001B[1m1/1\u001B[0m \u001B[32m━━━━━━━━━━━━━━━━━━━━\u001B[0m\u001B[37m\u001B[0m \u001B[1m0s\u001B[0m 32ms/step - loss: 0.6816\n",
      "Epoch 8/50\n",
      "\u001B[1m1/1\u001B[0m \u001B[32m━━━━━━━━━━━━━━━━━━━━\u001B[0m\u001B[37m\u001B[0m \u001B[1m0s\u001B[0m 33ms/step - loss: 0.6791\n",
      "Epoch 9/50\n",
      "\u001B[1m1/1\u001B[0m \u001B[32m━━━━━━━━━━━━━━━━━━━━\u001B[0m\u001B[37m\u001B[0m \u001B[1m0s\u001B[0m 33ms/step - loss: 0.6763\n",
      "Epoch 10/50\n",
      "\u001B[1m1/1\u001B[0m \u001B[32m━━━━━━━━━━━━━━━━━━━━\u001B[0m\u001B[37m\u001B[0m \u001B[1m0s\u001B[0m 32ms/step - loss: 0.6732\n",
      "Epoch 11/50\n",
      "\u001B[1m1/1\u001B[0m \u001B[32m━━━━━━━━━━━━━━━━━━━━\u001B[0m\u001B[37m\u001B[0m \u001B[1m0s\u001B[0m 32ms/step - loss: 0.6698\n",
      "Epoch 12/50\n",
      "\u001B[1m1/1\u001B[0m \u001B[32m━━━━━━━━━━━━━━━━━━━━\u001B[0m\u001B[37m\u001B[0m \u001B[1m0s\u001B[0m 34ms/step - loss: 0.6660\n",
      "Epoch 13/50\n",
      "\u001B[1m1/1\u001B[0m \u001B[32m━━━━━━━━━━━━━━━━━━━━\u001B[0m\u001B[37m\u001B[0m \u001B[1m0s\u001B[0m 31ms/step - loss: 0.6618\n",
      "Epoch 14/50\n",
      "\u001B[1m1/1\u001B[0m \u001B[32m━━━━━━━━━━━━━━━━━━━━\u001B[0m\u001B[37m\u001B[0m \u001B[1m0s\u001B[0m 33ms/step - loss: 0.6572\n",
      "Epoch 15/50\n",
      "\u001B[1m1/1\u001B[0m \u001B[32m━━━━━━━━━━━━━━━━━━━━\u001B[0m\u001B[37m\u001B[0m \u001B[1m0s\u001B[0m 32ms/step - loss: 0.6521\n",
      "Epoch 16/50\n",
      "\u001B[1m1/1\u001B[0m \u001B[32m━━━━━━━━━━━━━━━━━━━━\u001B[0m\u001B[37m\u001B[0m \u001B[1m0s\u001B[0m 32ms/step - loss: 0.6465\n",
      "Epoch 17/50\n",
      "\u001B[1m1/1\u001B[0m \u001B[32m━━━━━━━━━━━━━━━━━━━━\u001B[0m\u001B[37m\u001B[0m \u001B[1m0s\u001B[0m 33ms/step - loss: 0.6403\n",
      "Epoch 18/50\n",
      "\u001B[1m1/1\u001B[0m \u001B[32m━━━━━━━━━━━━━━━━━━━━\u001B[0m\u001B[37m\u001B[0m \u001B[1m0s\u001B[0m 32ms/step - loss: 0.6336\n",
      "Epoch 19/50\n",
      "\u001B[1m1/1\u001B[0m \u001B[32m━━━━━━━━━━━━━━━━━━━━\u001B[0m\u001B[37m\u001B[0m \u001B[1m0s\u001B[0m 33ms/step - loss: 0.6261\n",
      "Epoch 20/50\n",
      "\u001B[1m1/1\u001B[0m \u001B[32m━━━━━━━━━━━━━━━━━━━━\u001B[0m\u001B[37m\u001B[0m \u001B[1m0s\u001B[0m 32ms/step - loss: 0.6179\n",
      "Epoch 21/50\n",
      "\u001B[1m1/1\u001B[0m \u001B[32m━━━━━━━━━━━━━━━━━━━━\u001B[0m\u001B[37m\u001B[0m \u001B[1m0s\u001B[0m 32ms/step - loss: 0.6090\n",
      "Epoch 22/50\n",
      "\u001B[1m1/1\u001B[0m \u001B[32m━━━━━━━━━━━━━━━━━━━━\u001B[0m\u001B[37m\u001B[0m \u001B[1m0s\u001B[0m 31ms/step - loss: 0.5992\n",
      "Epoch 23/50\n",
      "\u001B[1m1/1\u001B[0m \u001B[32m━━━━━━━━━━━━━━━━━━━━\u001B[0m\u001B[37m\u001B[0m \u001B[1m0s\u001B[0m 32ms/step - loss: 0.5886\n",
      "Epoch 24/50\n",
      "\u001B[1m1/1\u001B[0m \u001B[32m━━━━━━━━━━━━━━━━━━━━\u001B[0m\u001B[37m\u001B[0m \u001B[1m0s\u001B[0m 31ms/step - loss: 0.5771\n",
      "Epoch 25/50\n",
      "\u001B[1m1/1\u001B[0m \u001B[32m━━━━━━━━━━━━━━━━━━━━\u001B[0m\u001B[37m\u001B[0m \u001B[1m0s\u001B[0m 32ms/step - loss: 0.5646\n",
      "Epoch 26/50\n",
      "\u001B[1m1/1\u001B[0m \u001B[32m━━━━━━━━━━━━━━━━━━━━\u001B[0m\u001B[37m\u001B[0m \u001B[1m0s\u001B[0m 32ms/step - loss: 0.5511\n",
      "Epoch 27/50\n",
      "\u001B[1m1/1\u001B[0m \u001B[32m━━━━━━━━━━━━━━━━━━━━\u001B[0m\u001B[37m\u001B[0m \u001B[1m0s\u001B[0m 37ms/step - loss: 0.5365\n",
      "Epoch 28/50\n",
      "\u001B[1m1/1\u001B[0m \u001B[32m━━━━━━━━━━━━━━━━━━━━\u001B[0m\u001B[37m\u001B[0m \u001B[1m0s\u001B[0m 32ms/step - loss: 0.5210\n",
      "Epoch 29/50\n",
      "\u001B[1m1/1\u001B[0m \u001B[32m━━━━━━━━━━━━━━━━━━━━\u001B[0m\u001B[37m\u001B[0m \u001B[1m0s\u001B[0m 32ms/step - loss: 0.5043\n",
      "Epoch 30/50\n",
      "\u001B[1m1/1\u001B[0m \u001B[32m━━━━━━━━━━━━━━━━━━━━\u001B[0m\u001B[37m\u001B[0m \u001B[1m0s\u001B[0m 32ms/step - loss: 0.4867\n",
      "Epoch 31/50\n",
      "\u001B[1m1/1\u001B[0m \u001B[32m━━━━━━━━━━━━━━━━━━━━\u001B[0m\u001B[37m\u001B[0m \u001B[1m0s\u001B[0m 36ms/step - loss: 0.4680\n",
      "Epoch 32/50\n",
      "\u001B[1m1/1\u001B[0m \u001B[32m━━━━━━━━━━━━━━━━━━━━\u001B[0m\u001B[37m\u001B[0m \u001B[1m0s\u001B[0m 38ms/step - loss: 0.4485\n",
      "Epoch 33/50\n",
      "\u001B[1m1/1\u001B[0m \u001B[32m━━━━━━━━━━━━━━━━━━━━\u001B[0m\u001B[37m\u001B[0m \u001B[1m0s\u001B[0m 32ms/step - loss: 0.4281\n",
      "Epoch 34/50\n",
      "\u001B[1m1/1\u001B[0m \u001B[32m━━━━━━━━━━━━━━━━━━━━\u001B[0m\u001B[37m\u001B[0m \u001B[1m0s\u001B[0m 32ms/step - loss: 0.4072\n",
      "Epoch 35/50\n",
      "\u001B[1m1/1\u001B[0m \u001B[32m━━━━━━━━━━━━━━━━━━━━\u001B[0m\u001B[37m\u001B[0m \u001B[1m0s\u001B[0m 32ms/step - loss: 0.3858\n",
      "Epoch 36/50\n",
      "\u001B[1m1/1\u001B[0m \u001B[32m━━━━━━━━━━━━━━━━━━━━\u001B[0m\u001B[37m\u001B[0m \u001B[1m0s\u001B[0m 40ms/step - loss: 0.3642\n",
      "Epoch 37/50\n",
      "\u001B[1m1/1\u001B[0m \u001B[32m━━━━━━━━━━━━━━━━━━━━\u001B[0m\u001B[37m\u001B[0m \u001B[1m0s\u001B[0m 30ms/step - loss: 0.3428\n",
      "Epoch 38/50\n",
      "\u001B[1m1/1\u001B[0m \u001B[32m━━━━━━━━━━━━━━━━━━━━\u001B[0m\u001B[37m\u001B[0m \u001B[1m0s\u001B[0m 32ms/step - loss: 0.3218\n",
      "Epoch 39/50\n",
      "\u001B[1m1/1\u001B[0m \u001B[32m━━━━━━━━━━━━━━━━━━━━\u001B[0m\u001B[37m\u001B[0m \u001B[1m0s\u001B[0m 38ms/step - loss: 0.3015\n",
      "Epoch 40/50\n",
      "\u001B[1m1/1\u001B[0m \u001B[32m━━━━━━━━━━━━━━━━━━━━\u001B[0m\u001B[37m\u001B[0m \u001B[1m0s\u001B[0m 31ms/step - loss: 0.2823\n",
      "Epoch 41/50\n",
      "\u001B[1m1/1\u001B[0m \u001B[32m━━━━━━━━━━━━━━━━━━━━\u001B[0m\u001B[37m\u001B[0m \u001B[1m0s\u001B[0m 32ms/step - loss: 0.2645\n",
      "Epoch 42/50\n",
      "\u001B[1m1/1\u001B[0m \u001B[32m━━━━━━━━━━━━━━━━━━━━\u001B[0m\u001B[37m\u001B[0m \u001B[1m0s\u001B[0m 31ms/step - loss: 0.2483\n",
      "Epoch 43/50\n",
      "\u001B[1m1/1\u001B[0m \u001B[32m━━━━━━━━━━━━━━━━━━━━\u001B[0m\u001B[37m\u001B[0m \u001B[1m0s\u001B[0m 33ms/step - loss: 0.2339\n",
      "Epoch 44/50\n",
      "\u001B[1m1/1\u001B[0m \u001B[32m━━━━━━━━━━━━━━━━━━━━\u001B[0m\u001B[37m\u001B[0m \u001B[1m0s\u001B[0m 31ms/step - loss: 0.2215\n",
      "Epoch 45/50\n",
      "\u001B[1m1/1\u001B[0m \u001B[32m━━━━━━━━━━━━━━━━━━━━\u001B[0m\u001B[37m\u001B[0m \u001B[1m0s\u001B[0m 32ms/step - loss: 0.2112\n",
      "Epoch 46/50\n",
      "\u001B[1m1/1\u001B[0m \u001B[32m━━━━━━━━━━━━━━━━━━━━\u001B[0m\u001B[37m\u001B[0m \u001B[1m0s\u001B[0m 31ms/step - loss: 0.2028\n",
      "Epoch 47/50\n",
      "\u001B[1m1/1\u001B[0m \u001B[32m━━━━━━━━━━━━━━━━━━━━\u001B[0m\u001B[37m\u001B[0m \u001B[1m0s\u001B[0m 33ms/step - loss: 0.1963\n",
      "Epoch 48/50\n",
      "\u001B[1m1/1\u001B[0m \u001B[32m━━━━━━━━━━━━━━━━━━━━\u001B[0m\u001B[37m\u001B[0m \u001B[1m0s\u001B[0m 31ms/step - loss: 0.1915\n",
      "Epoch 49/50\n",
      "\u001B[1m1/1\u001B[0m \u001B[32m━━━━━━━━━━━━━━━━━━━━\u001B[0m\u001B[37m\u001B[0m \u001B[1m0s\u001B[0m 31ms/step - loss: 0.1882\n",
      "Epoch 50/50\n",
      "\u001B[1m1/1\u001B[0m \u001B[32m━━━━━━━━━━━━━━━━━━━━\u001B[0m\u001B[37m\u001B[0m \u001B[1m0s\u001B[0m 33ms/step - loss: 0.1860\n",
      "\u001B[1m4/4\u001B[0m \u001B[32m━━━━━━━━━━━━━━━━━━━━\u001B[0m\u001B[37m\u001B[0m \u001B[1m0s\u001B[0m 23ms/step\n",
      "Original Data:\n",
      " [[0.         0.01062147 0.00682809 ... 0.05633171 0.03706675 0.        ]\n",
      " [0.         0.         0.03354811 ... 0.         0.         0.        ]\n",
      " [0.         0.         0.         ... 0.         0.20078052 0.        ]\n",
      " ...\n",
      " [0.00960671 0.         0.         ... 0.02554511 0.20885233 0.        ]\n",
      " [0.         0.         0.         ... 0.04726559 0.         0.13534136]\n",
      " [0.         0.         0.         ... 0.02684445 0.00939164 0.71752148]]\n",
      "Reconstructed Data:\n",
      " [[0.13730212 0.0388166  0.14176919 ... 0.05051713 0.2710407  0.14418107]\n",
      " [0.09571573 0.0195502  0.10010389 ... 0.02548541 0.2287059  0.10261086]\n",
      " [0.1466102  0.04277772 0.1567715  ... 0.06126788 0.2870744  0.16132559]\n",
      " ...\n",
      " [0.08295631 0.01388203 0.08178356 ... 0.02095476 0.22168851 0.09237604]\n",
      " [0.05135043 0.00583903 0.05297205 ... 0.0101877  0.18807437 0.06084446]\n",
      " [0.01404145 0.00060078 0.01319554 ... 0.00130776 0.11724524 0.01875143]]\n"
     ]
    }
   ],
   "execution_count": 1
  },
  {
   "metadata": {
    "ExecuteTime": {
     "end_time": "2024-08-05T02:21:01.317848Z",
     "start_time": "2024-08-05T02:20:57.827790Z"
    }
   },
   "cell_type": "code",
   "source": [
    "import pandas as pd\n",
    "import torch\n",
    "import torch.nn as nn\n",
    "import torch.optim as optim\n",
    "from torch.utils.data import DataLoader, TensorDataset\n",
    "import anndata as ad\n",
    "import scipy\n",
    "\n",
    "# 加载数据\n",
    "adata = ad.read_h5ad(\"D:\\\\新建文件夹 (7)\\\\m_ako_part1\")\n",
    "# 提取矩阵数据\n",
    "original_data = adata.X[:100, :100]\n",
    "\n",
    "features = torch.tensor(adata.X[:100, :100].toarray()) if isinstance(adata.X[:100, :100], scipy.sparse.spmatrix) else torch.tensor(adata.X[:100, :100])"
   ],
   "id": "b38f0139e5dafd4f",
   "outputs": [],
   "execution_count": 2
  },
  {
   "metadata": {
    "ExecuteTime": {
     "end_time": "2024-08-05T02:46:40.764357Z",
     "start_time": "2024-08-05T02:46:40.743357Z"
    }
   },
   "cell_type": "code",
   "source": [
    "import numpy as np\n",
    "from scipy.sparse import coo_matrix\n",
    "\n",
    "# 假设 coo_matrix 是一个 COO 格式的稀疏矩阵\n",
    "row = np.array([0, 1, 2, 3])\n",
    "col = np.array([2, 4, 1, 3])\n",
    "data = np.array([3, 5, 6, 7])\n",
    "coo_matrix = coo_matrix((data, (row, col)), shape=(4, 5))\n",
    "\n",
    "# 转换为稠密矩阵\n",
    "dense_matrix = np.zeros(coo_matrix.shape)\n",
    "dense_matrix[coo_matrix.row, coo_matrix.col] = coo_matrix.data\n",
    "\n",
    "print(dense_matrix)\n"
   ],
   "id": "9ea71147f3c2efaa",
   "outputs": [
    {
     "name": "stdout",
     "output_type": "stream",
     "text": [
      "[[0. 0. 3. 0. 0.]\n",
      " [0. 0. 0. 0. 5.]\n",
      " [0. 6. 0. 0. 0.]\n",
      " [0. 0. 0. 7. 0.]]\n"
     ]
    }
   ],
   "execution_count": 3
  },
  {
   "metadata": {
    "ExecuteTime": {
     "end_time": "2024-08-05T02:54:30.146362Z",
     "start_time": "2024-08-05T02:54:30.139346Z"
    }
   },
   "cell_type": "code",
   "source": [
    "import numpy as np\n",
    "from scipy.sparse import coo_matrix\n",
    "\n",
    "# 假设 coo_matrix 是一个 COO 格式的稀疏矩阵\n",
    "row = np.array([0, 1, 2, 3])\n",
    "col = np.array([2, 4, 1, 3])\n",
    "data = np.array([3, 5, 6, 7])\n",
    "coo_matrix = coo_matrix((data, (row, col)), shape=(4, 5))\n",
    "print(coo_matrix)"
   ],
   "id": "3fb9e46aa6bee211",
   "outputs": [
    {
     "name": "stdout",
     "output_type": "stream",
     "text": [
      "  (0, 2)\t3\n",
      "  (1, 4)\t5\n",
      "  (2, 1)\t6\n",
      "  (3, 3)\t7\n"
     ]
    }
   ],
   "execution_count": 4
  },
  {
   "metadata": {
    "ExecuteTime": {
     "end_time": "2024-08-05T03:06:25.210109Z",
     "start_time": "2024-08-05T03:06:25.149977Z"
    }
   },
   "cell_type": "code",
   "source": [
    "class Autoencoder(nn.Module):\n",
    "    def __init__(self, input_dim):\n",
    "        super(Autoencoder, self).__init__()\n",
    "        # 定义编码器\n",
    "        self.encoder = nn.Sequential(\n",
    "            nn.Linear(input_dim, 512),\n",
    "            nn.ReLU(),\n",
    "            nn.Linear(512, 128),\n",
    "            nn.ReLU(),\n",
    "            nn.Linear(128, 8),\n",
    "            nn.ReLU(),\n",
    "        )\n",
    "        # 定义解码器\n",
    "        self.decoder = nn.Sequential(\n",
    "            nn.Linear(8, 128),\n",
    "            nn.ReLU(),\n",
    "            nn.Linear(128, 512),\n",
    "            nn.ReLU(),\n",
    "            nn.Linear(512, input_dim),\n",
    "            nn.ReLU()\n",
    "        )\n",
    "\n",
    "    def forward(self, x):\n",
    "        x = self.encoder(x)\n",
    "        x = self.decoder(x)\n",
    "        return x\n",
    "    \n",
    "model = Autoencoder(adata.X[:100, :100].shape[1])"
   ],
   "id": "1d42803dae0d7600",
   "outputs": [],
   "execution_count": 5
  },
  {
   "metadata": {
    "ExecuteTime": {
     "end_time": "2024-08-05T03:06:49.577916Z",
     "start_time": "2024-08-05T03:06:46.522342Z"
    }
   },
   "cell_type": "code",
   "source": [
    "# 定义损失函数和优化器\n",
    "criterion = nn.MSELoss()\n",
    "optimizer = optim.Adam(model.parameters(), lr=0.001)\n",
    "\n",
    "# 创建数据集和数据加载器\n",
    "dataset = TensorDataset(features, features)  # 自编码器的输入和输出相同\n",
    "data_loader = DataLoader(dataset, batch_size=128, shuffle=True)"
   ],
   "id": "192c85be7c66a210",
   "outputs": [],
   "execution_count": 6
  },
  {
   "metadata": {
    "ExecuteTime": {
     "end_time": "2024-08-05T03:09:33.519552Z",
     "start_time": "2024-08-05T03:09:32.706278Z"
    }
   },
   "cell_type": "code",
   "source": [
    "import time\n",
    "\n",
    "# 训练模型\n",
    "num_epochs = 100\n",
    "avg_losses = []\n",
    "for epoch in range(num_epochs):\n",
    "    start_time = time.time()\n",
    "    losses = []\n",
    "    for data, _ in data_loader:\n",
    "        \n",
    "        data = data.float()\n",
    "        # 前向传播\n",
    "        outputs = model(data)\n",
    "        loss = criterion(outputs, data)\n",
    "\n",
    "        # 反向传播和优化\n",
    "        optimizer.zero_grad()\n",
    "        loss.backward()\n",
    "        optimizer.step()\n",
    "        losses.append(loss.item())\n",
    "\n",
    "    # 计算并打印每个周期的平均损失\n",
    "    epoch_loss = sum(losses) / len(losses)\n",
    "    avg_losses.append(epoch_loss)\n",
    "    print(f'Epoch [{epoch+1}/{num_epochs}], Loss: {epoch_loss:.4f}, Time: {time.time() - start_time:.2f}s')"
   ],
   "id": "a10a4eb1bb8f4710",
   "outputs": [
    {
     "name": "stdout",
     "output_type": "stream",
     "text": [
      "Epoch [1/100], Loss: 0.0073, Time: 0.17s\n",
      "Epoch [2/100], Loss: 0.0066, Time: 0.01s\n",
      "Epoch [3/100], Loss: 0.0064, Time: 0.01s\n",
      "Epoch [4/100], Loss: 0.0065, Time: 0.01s\n",
      "Epoch [5/100], Loss: 0.0065, Time: 0.01s\n",
      "Epoch [6/100], Loss: 0.0065, Time: 0.01s\n",
      "Epoch [7/100], Loss: 0.0064, Time: 0.01s\n",
      "Epoch [8/100], Loss: 0.0064, Time: 0.01s\n",
      "Epoch [9/100], Loss: 0.0064, Time: 0.01s\n",
      "Epoch [10/100], Loss: 0.0063, Time: 0.01s\n",
      "Epoch [11/100], Loss: 0.0063, Time: 0.01s\n",
      "Epoch [12/100], Loss: 0.0063, Time: 0.01s\n",
      "Epoch [13/100], Loss: 0.0063, Time: 0.01s\n",
      "Epoch [14/100], Loss: 0.0062, Time: 0.01s\n",
      "Epoch [15/100], Loss: 0.0062, Time: 0.01s\n",
      "Epoch [16/100], Loss: 0.0061, Time: 0.01s\n",
      "Epoch [17/100], Loss: 0.0061, Time: 0.01s\n",
      "Epoch [18/100], Loss: 0.0060, Time: 0.01s\n",
      "Epoch [19/100], Loss: 0.0060, Time: 0.01s\n",
      "Epoch [20/100], Loss: 0.0059, Time: 0.01s\n",
      "Epoch [21/100], Loss: 0.0058, Time: 0.01s\n",
      "Epoch [22/100], Loss: 0.0058, Time: 0.01s\n",
      "Epoch [23/100], Loss: 0.0058, Time: 0.01s\n",
      "Epoch [24/100], Loss: 0.0057, Time: 0.01s\n",
      "Epoch [25/100], Loss: 0.0057, Time: 0.01s\n",
      "Epoch [26/100], Loss: 0.0057, Time: 0.01s\n",
      "Epoch [27/100], Loss: 0.0057, Time: 0.04s\n",
      "Epoch [28/100], Loss: 0.0056, Time: 0.03s\n",
      "Epoch [29/100], Loss: 0.0056, Time: 0.01s\n",
      "Epoch [30/100], Loss: 0.0056, Time: 0.01s\n",
      "Epoch [31/100], Loss: 0.0055, Time: 0.01s\n",
      "Epoch [32/100], Loss: 0.0055, Time: 0.01s\n",
      "Epoch [33/100], Loss: 0.0055, Time: 0.01s\n",
      "Epoch [34/100], Loss: 0.0054, Time: 0.01s\n",
      "Epoch [35/100], Loss: 0.0054, Time: 0.01s\n",
      "Epoch [36/100], Loss: 0.0053, Time: 0.01s\n",
      "Epoch [37/100], Loss: 0.0053, Time: 0.01s\n",
      "Epoch [38/100], Loss: 0.0053, Time: 0.01s\n",
      "Epoch [39/100], Loss: 0.0052, Time: 0.01s\n",
      "Epoch [40/100], Loss: 0.0052, Time: 0.01s\n",
      "Epoch [41/100], Loss: 0.0052, Time: 0.01s\n",
      "Epoch [42/100], Loss: 0.0051, Time: 0.01s\n",
      "Epoch [43/100], Loss: 0.0051, Time: 0.01s\n",
      "Epoch [44/100], Loss: 0.0051, Time: 0.01s\n",
      "Epoch [45/100], Loss: 0.0050, Time: 0.01s\n",
      "Epoch [46/100], Loss: 0.0050, Time: 0.01s\n",
      "Epoch [47/100], Loss: 0.0050, Time: 0.01s\n",
      "Epoch [48/100], Loss: 0.0050, Time: 0.01s\n",
      "Epoch [49/100], Loss: 0.0049, Time: 0.01s\n",
      "Epoch [50/100], Loss: 0.0049, Time: 0.01s\n",
      "Epoch [51/100], Loss: 0.0048, Time: 0.01s\n",
      "Epoch [52/100], Loss: 0.0048, Time: 0.01s\n",
      "Epoch [53/100], Loss: 0.0048, Time: 0.01s\n",
      "Epoch [54/100], Loss: 0.0048, Time: 0.01s\n",
      "Epoch [55/100], Loss: 0.0047, Time: 0.01s\n",
      "Epoch [56/100], Loss: 0.0047, Time: 0.01s\n",
      "Epoch [57/100], Loss: 0.0047, Time: 0.00s\n",
      "Epoch [58/100], Loss: 0.0047, Time: 0.01s\n",
      "Epoch [59/100], Loss: 0.0046, Time: 0.00s\n",
      "Epoch [60/100], Loss: 0.0046, Time: 0.01s\n",
      "Epoch [61/100], Loss: 0.0046, Time: 0.01s\n",
      "Epoch [62/100], Loss: 0.0046, Time: 0.01s\n",
      "Epoch [63/100], Loss: 0.0046, Time: 0.01s\n",
      "Epoch [64/100], Loss: 0.0046, Time: 0.01s\n",
      "Epoch [65/100], Loss: 0.0045, Time: 0.01s\n",
      "Epoch [66/100], Loss: 0.0045, Time: 0.01s\n",
      "Epoch [67/100], Loss: 0.0045, Time: 0.01s\n",
      "Epoch [68/100], Loss: 0.0045, Time: 0.01s\n",
      "Epoch [69/100], Loss: 0.0045, Time: 0.01s\n",
      "Epoch [70/100], Loss: 0.0045, Time: 0.01s\n",
      "Epoch [71/100], Loss: 0.0045, Time: 0.01s\n",
      "Epoch [72/100], Loss: 0.0045, Time: 0.01s\n",
      "Epoch [73/100], Loss: 0.0044, Time: 0.01s\n",
      "Epoch [74/100], Loss: 0.0044, Time: 0.01s\n",
      "Epoch [75/100], Loss: 0.0044, Time: 0.01s\n",
      "Epoch [76/100], Loss: 0.0044, Time: 0.01s\n",
      "Epoch [77/100], Loss: 0.0044, Time: 0.01s\n",
      "Epoch [78/100], Loss: 0.0044, Time: 0.01s\n",
      "Epoch [79/100], Loss: 0.0044, Time: 0.01s\n",
      "Epoch [80/100], Loss: 0.0044, Time: 0.01s\n",
      "Epoch [81/100], Loss: 0.0043, Time: 0.00s\n",
      "Epoch [82/100], Loss: 0.0043, Time: 0.00s\n",
      "Epoch [83/100], Loss: 0.0043, Time: 0.00s\n",
      "Epoch [84/100], Loss: 0.0043, Time: 0.00s\n",
      "Epoch [85/100], Loss: 0.0043, Time: 0.00s\n",
      "Epoch [86/100], Loss: 0.0043, Time: 0.01s\n",
      "Epoch [87/100], Loss: 0.0043, Time: 0.00s\n",
      "Epoch [88/100], Loss: 0.0042, Time: 0.00s\n",
      "Epoch [89/100], Loss: 0.0042, Time: 0.01s\n",
      "Epoch [90/100], Loss: 0.0042, Time: 0.01s\n",
      "Epoch [91/100], Loss: 0.0042, Time: 0.00s\n",
      "Epoch [92/100], Loss: 0.0042, Time: 0.01s\n",
      "Epoch [93/100], Loss: 0.0042, Time: 0.01s\n",
      "Epoch [94/100], Loss: 0.0042, Time: 0.01s\n",
      "Epoch [95/100], Loss: 0.0042, Time: 0.00s\n",
      "Epoch [96/100], Loss: 0.0041, Time: 0.00s\n",
      "Epoch [97/100], Loss: 0.0041, Time: 0.00s\n",
      "Epoch [98/100], Loss: 0.0041, Time: 0.00s\n",
      "Epoch [99/100], Loss: 0.0041, Time: 0.01s\n",
      "Epoch [100/100], Loss: 0.0041, Time: 0.00s\n"
     ]
    }
   ],
   "execution_count": 7
  },
  {
   "metadata": {
    "ExecuteTime": {
     "end_time": "2024-08-05T03:13:37.015581Z",
     "start_time": "2024-08-05T03:13:36.375203Z"
    }
   },
   "cell_type": "code",
   "source": [
    "# view loss\n",
    "import matplotlib.pyplot as plt\n",
    "\n",
    "plt.plot(avg_losses)\n",
    "plt.xlabel('Epoch')\n",
    "plt.ylabel('Loss')\n",
    "plt.savefig(\"D:/Projects/Ragnarok/loss.png\", dpi=300)"
   ],
   "id": "4a9886ba592d0941",
   "outputs": [
    {
     "data": {
      "text/plain": [
       "<Figure size 640x480 with 1 Axes>"
      ],
      "image/png": "[encoded data removed]"
     },
     "metadata": {},
     "output_type": "display_data"
    }
   ],
   "execution_count": 8
  },
  {
   "metadata": {
    "ExecuteTime": {
     "end_time": "2024-08-05T03:15:48.477149Z",
     "start_time": "2024-08-05T03:15:48.446756Z"
    }
   },
   "cell_type": "code",
   "source": "torch.save(model.state_dict(), 'D:/Projects/Ragnarok/Autoencoder.pth')",
   "id": "6cf7121e4e2d541c",
   "outputs": [],
   "execution_count": 9
  },
  {
   "metadata": {
    "ExecuteTime": {
     "end_time": "2024-08-05T03:15:59.958710Z",
     "start_time": "2024-08-05T03:15:59.951827Z"
    }
   },
   "cell_type": "code",
   "source": "model.eval()",
   "id": "7b451fda357225e9",
   "outputs": [
    {
     "data": {
      "text/plain": [
       "Autoencoder(\n",
       "  (encoder): Sequential(\n",
       "    (0): Linear(in_features=100, out_features=512, bias=True)\n",
       "    (1): ReLU()\n",
       "    (2): Linear(in_features=512, out_features=128, bias=True)\n",
       "    (3): ReLU()\n",
       "    (4): Linear(in_features=128, out_features=8, bias=True)\n",
       "    (5): ReLU()\n",
       "  )\n",
       "  (decoder): Sequential(\n",
       "    (0): Linear(in_features=8, out_features=128, bias=True)\n",
       "    (1): ReLU()\n",
       "    (2): Linear(in_features=128, out_features=512, bias=True)\n",
       "    (3): ReLU()\n",
       "    (4): Linear(in_features=512, out_features=100, bias=True)\n",
       "    (5): ReLU()\n",
       "  )\n",
       ")"
      ]
     },
     "execution_count": 10,
     "metadata": {},
     "output_type": "execute_result"
    }
   ],
   "execution_count": 10
  },
  {
   "metadata": {
    "ExecuteTime": {
     "end_time": "2024-08-05T03:16:15.867393Z",
     "start_time": "2024-08-05T03:16:15.862361Z"
    }
   },
   "cell_type": "code",
   "source": [
    "with torch.no_grad():  # 确保不会计算梯度，以减少内存使用\n",
    "    # 假设你要对整个数据集进行预测\n",
    "    features = features.float()\n",
    "    outputs = model(features)\n",
    "    outputs = outputs.numpy()"
   ],
   "id": "69e73a524c515c77",
   "outputs": [],
   "execution_count": 11
  },
  {
   "metadata": {
    "ExecuteTime": {
     "end_time": "2024-08-05T03:18:14.531219Z",
     "start_time": "2024-08-05T03:18:13.526965Z"
    }
   },
   "cell_type": "code",
   "source": [
    "# 创建一个水平镜像图\n",
    "plt.figure(figsize=(10, 5))\n",
    "\n",
    "# 绘制原始数据\n",
    "plt.plot(adata.X[:100, :100][3], label='original data', linewidth=0.8)\n",
    "\n",
    "# 绘制神经网络生成的数据\n",
    "plt.plot(-outputs[3], label='generated data', linewidth=0.8)\n",
    "\n",
    "plt.legend()\n",
    "\n",
    "# 显示图表\n",
    "plt.savefig(\"D:/Projects/Ragnarok/compare.png\", dpi=600)"
   ],
   "id": "7c5b12d0a75fc6e2",
   "outputs": [
    {
     "data": {
      "text/plain": [
       "<Figure size 1000x500 with 1 Axes>"
      ],
      "image/png": "[encoded data removed]"
     },
     "metadata": {},
     "output_type": "display_data"
    }
   ],
   "execution_count": 13
  },
  {
   "metadata": {},
   "cell_type": "code",
   "outputs": [],
   "execution_count": null,
   "source": "",
   "id": "bd26e24df8a23590"
  }
 ],
 "metadata": {
  "kernelspec": {
   "display_name": "Python 3",
   "language": "python",
   "name": "python3"
  },
  "language_info": {
   "codemirror_mode": {
    "name": "ipython",
    "version": 2
   },
   "file_extension": ".py",
   "mimetype": "text/x-python",
   "name": "python",
   "nbconvert_exporter": "python",
   "pygments_lexer": "ipython2",
   "version": "2.7.6"
  }
 },
 "nbformat": 4,
 "nbformat_minor": 5
}
