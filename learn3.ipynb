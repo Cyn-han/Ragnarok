{
 "cells": [
  {
   "cell_type": "code",
   "id": "initial_id",
   "metadata": {
    "collapsed": true,
    "ExecuteTime": {
     "end_time": "2024-07-24T03:38:30.358330Z",
     "start_time": "2024-07-24T03:38:30.352384Z"
    }
   },
   "source": [
    "import pandas as pd\n",
    "data = [['cindy',10],['window',20],['wiki',13]]\n",
    "df = pd.DataFrame(data,columns=['Name','Age'])\n"
   ],
   "outputs": [],
   "execution_count": 7
  },
  {
   "metadata": {
    "ExecuteTime": {
     "end_time": "2024-07-24T03:38:00.681076Z",
     "start_time": "2024-07-24T03:38:00.675344Z"
    }
   },
   "cell_type": "code",
   "source": [
    "import numpy as np\n",
    "import pandas as pd\n",
    "ndarray_data = np.array([['you',1],['I',10],['she',20]])\n",
    "df = pd.DataFrame(ndarray_data,columns=['Site','Age'])"
   ],
   "id": "dbd251a4952efaf2",
   "outputs": [],
   "execution_count": 6
  },
  {
   "metadata": {
    "ExecuteTime": {
     "end_time": "2024-07-24T03:53:29.573666Z",
     "start_time": "2024-07-24T03:53:29.568568Z"
    }
   },
   "cell_type": "code",
   "source": [
    "import pandas as pd\n",
    "data = [{'a':1,'b':2},{'a':3,'b':4,'c':5}]\n",
    "df = pd.DataFrame(data)\n"
   ],
   "id": "c511f8e500b6e691",
   "outputs": [],
   "execution_count": 9
  },
  {
   "metadata": {
    "ExecuteTime": {
     "end_time": "2024-07-24T04:00:35.043054Z",
     "start_time": "2024-07-24T04:00:35.038140Z"
    }
   },
   "cell_type": "code",
   "source": [
    "import pandas as pd\n",
    "data = {\n",
    "    \"a\":[1,2,3,4,5],\n",
    "    \"b\":[1,2,3,4,5],\n",
    "}\n"
   ],
   "id": "a6b552fcd11edee1",
   "outputs": [
    {
     "ename": "SyntaxError",
     "evalue": "cannot assign to literal here. Maybe you meant '==' instead of '='? (482578231.py, line 2)",
     "output_type": "error",
     "traceback": [
      "\u001B[1;36m  Cell \u001B[1;32mIn[10], line 2\u001B[1;36m\u001B[0m\n\u001B[1;33m    data = {\"calories\" = [40,20,30],\"duration\" = [50,40,60]}\u001B[0m\n\u001B[1;37m            ^\u001B[0m\n\u001B[1;31mSyntaxError\u001B[0m\u001B[1;31m:\u001B[0m cannot assign to literal here. Maybe you meant '==' instead of '='?\n"
     ]
    }
   ],
   "execution_count": 10
  },
  {
   "metadata": {
    "ExecuteTime": {
     "end_time": "2024-07-24T04:05:34.598190Z",
     "start_time": "2024-07-24T04:05:34.592512Z"
    }
   },
   "cell_type": "code",
   "source": [
    "import pandas as pd\n",
    "\n",
    "data = {\n",
    "  \"calories\": [420, 380, 390],\n",
    "  \"duration\": [50, 40, 45]\n",
    "}\n",
    "\n",
    "# 数据载入到 DataFrame 对象\n",
    "df = pd.DataFrame(data)\n",
    "\n",
    "# 返回第一行\n",
    "print(df.loc[0])\n",
    "# 返回第二行\n",
    "print(df.loc[1])"
   ],
   "id": "4ea3b8597e9c419a",
   "outputs": [
    {
     "name": "stdout",
     "output_type": "stream",
     "text": [
      "calories    420\n",
      "duration     50\n",
      "Name: 0, dtype: int64\n",
      "calories    380\n",
      "duration     40\n",
      "Name: 1, dtype: int64\n"
     ]
    }
   ],
   "execution_count": 11
  },
  {
   "metadata": {},
   "cell_type": "code",
   "outputs": [],
   "execution_count": null,
   "source": "",
   "id": "3ee1c7930cb48db5"
  },
  {
   "metadata": {
    "ExecuteTime": {
     "end_time": "2024-07-24T07:16:22.953624Z",
     "start_time": "2024-07-24T07:16:17.618149Z"
    }
   },
   "cell_type": "code",
   "source": [
    "import anndata as ad\n",
    "import torch\n",
    "import torch.nn as nn\n",
    "import torch.optim as optim\n",
    "from sklearn.model_selection import train_test_split\n",
    "from torch.utils.data import DataLoader,TensorDataset\n",
    "adata = ad.read_h5ad(\"D:\\新建文件夹 (7)\\m_ako_part1\")\n",
    "X = adata.X\n",
    "X_tensor = torch.tensor(X.astype(np.float32))"
   ],
   "id": "546f9619344a3f1a",
   "outputs": [],
   "execution_count": 13
  },
  {
   "metadata": {
    "ExecuteTime": {
     "end_time": "2024-07-24T07:59:48.643265Z",
     "start_time": "2024-07-24T07:59:48.372376Z"
    }
   },
   "cell_type": "code",
   "source": [
    "X_train, X_test = train_test_split(X_tensor, test_size=0.2, random_state=42)\n",
    "train_loader = DataLoader(TensorDataset(X_train), batch_size=64, shuffle=True)"
   ],
   "id": "9c83085055369121",
   "outputs": [],
   "execution_count": 14
  },
  {
   "metadata": {
    "ExecuteTime": {
     "end_time": "2024-07-24T09:09:23.881125Z",
     "start_time": "2024-07-24T09:09:23.811092Z"
    }
   },
   "cell_type": "code",
   "source": [
    "class Autoencoder(nn.Module):\n",
    "    def __init__(self, input_size, encoding_size):\n",
    "        super(Autoencoder, self).__init__()\n",
    "        self.encoder = nn.Sequential(\n",
    "            nn.Linear(input_size, encoding_size),\n",
    "            nn.ReLU(),\n",
    "        )\n",
    "        self.decoder = nn.Sequential(\n",
    "            nn.Linear(encoding_size, input_size),\n",
    "            nn.Sigmoid()\n",
    "        )\n",
    "    def forward(self, x):\n",
    "        encoded = self.encoder(x)\n",
    "        decoded = self.decoder(encoded)\n",
    "        return decoded\n",
    "input_size = X.shape[1]\n",
    "encoding_size = 5\n",
    "autoencoder = Autoencoder(input_size, encoding_size)\n",
    "    \n",
    "        "
   ],
   "id": "b822e0924c9b4205",
   "outputs": [],
   "execution_count": 15
  },
  {
   "metadata": {
    "ExecuteTime": {
     "end_time": "2024-07-24T09:35:07.482524Z",
     "start_time": "2024-07-24T09:32:51.864078Z"
    }
   },
   "cell_type": "code",
   "source": [
    "criterion = nn.MSELoss()\n",
    "optimizer = optim.Adam(autoencoder.parameters(), lr=0.001)\n",
    "num_epochs = 50\n",
    "for epoch in range(num_epochs):\n",
    "    for data in train_loader:\n",
    "        data = data[0]\n",
    "        optimizer.zero_grad()\n",
    "        output = autoencoder(data)\n",
    "        loss = criterion(output, data)\n",
    "        loss.backward()\n",
    "        optimizer.step()\n",
    "    "
   ],
   "id": "677ce6b3d677ce3a",
   "outputs": [],
   "execution_count": 17
  },
  {
   "metadata": {
    "ExecuteTime": {
     "end_time": "2024-07-24T09:39:55.659242Z",
     "start_time": "2024-07-24T09:39:55.227654Z"
    }
   },
   "cell_type": "code",
   "source": [
    "autoencoder.eval()\n",
    "with torch.no_grad():\n",
    "    X_test_reconstructed = autoencoder(X_test)\n",
    "    "
   ],
   "id": "aff12b6db80892eb",
   "outputs": [],
   "execution_count": 18
  },
  {
   "metadata": {
    "ExecuteTime": {
     "end_time": "2024-07-24T09:40:13.271653Z",
     "start_time": "2024-07-24T09:40:13.194551Z"
    }
   },
   "cell_type": "code",
   "source": [
    "reconstruction_loss = criterion(X_test_reconstructed, X_test)\n",
    "print(f'Test Reconstruction Loss: {reconstruction_loss.item()}')"
   ],
   "id": "2ff6183a87029051",
   "outputs": [
    {
     "name": "stdout",
     "output_type": "stream",
     "text": [
      "Test Reconstruction Loss: 4.242568016052246\n"
     ]
    }
   ],
   "execution_count": 19
  },
  {
   "metadata": {
    "ExecuteTime": {
     "end_time": "2024-07-24T11:28:47.487393Z",
     "start_time": "2024-07-24T11:28:47.475978Z"
    }
   },
   "cell_type": "code",
   "source": [
    "obs_columns = adata.obs.columns\n",
    "print(\"Observation (cell) metadata columns:\")\n",
    "print(obs_columns)\n"
   ],
   "id": "e5f44df89b10f30c",
   "outputs": [
    {
     "name": "stdout",
     "output_type": "stream",
     "text": [
      "Observation (cell) metadata columns:\n",
      "Index(['x', 'y'], dtype='object')\n"
     ]
    }
   ],
   "execution_count": 20
  },
  {
   "metadata": {
    "ExecuteTime": {
     "end_time": "2024-07-24T11:29:36.685402Z",
     "start_time": "2024-07-24T11:29:36.677280Z"
    }
   },
   "cell_type": "code",
   "source": [
    "var_columns = adata.var.columns\n",
    "print(\"Variable (gene) metadata columns:\")\n",
    "print(var_columns)"
   ],
   "id": "6728b7a56e3fd421",
   "outputs": [
    {
     "name": "stdout",
     "output_type": "stream",
     "text": [
      "Variable (gene) metadata columns:\n",
      "Index([], dtype='object')\n"
     ]
    }
   ],
   "execution_count": 21
  },
  {
   "metadata": {
    "ExecuteTime": {
     "end_time": "2024-07-24T11:48:17.889579Z",
     "start_time": "2024-07-24T11:48:17.870792Z"
    }
   },
   "cell_type": "code",
   "source": [
    "umap1_present = 'cell' in obs_columns\n",
    "print(f\"'cell' column present: {umap1_present}\")"
   ],
   "id": "39f846d535ecd208",
   "outputs": [
    {
     "name": "stdout",
     "output_type": "stream",
     "text": [
      "'cell' column present: False\n"
     ]
    }
   ],
   "execution_count": 22
  },
  {
   "metadata": {
    "ExecuteTime": {
     "end_time": "2024-07-24T13:18:57.750245Z",
     "start_time": "2024-07-24T13:18:49.452677Z"
    }
   },
   "cell_type": "code",
   "source": [
    "import anndata as ad\n",
    "import matplotlib.pyplot as plt\n",
    "\n",
    "# 1. 加载数据\n",
    "adata = ad.read_h5ad(\"D:\\新建文件夹 (7)\\m_ako_part1\")\n",
    "\n",
    "# 2. 提取坐标和类别信息\n",
    "# 假设坐标存储在.obs中，列名为'UMAP_1'和'UMAP_2'\n",
    "# 假设类别信息存储在.obs中，列名为'cell_type'\n",
    "umap1 = adata.obs['x']\n",
    "umap2 = adata.obs['y']\n",
    "\n",
    "\n",
    "# 3. 绘制散点图\n",
    "plt.figure(figsize=(10, 8))\n",
    "for cell_type unique():\n",
    "    # 筛选属于特定类别的细胞\n",
    "    mask = cell_types == cell_type\n",
    "    plt.scatter(umap1[mask], umap2[mask], label=cell_type)\n",
    "\n",
    "plt.title('Cell Type UMAP Projection')\n",
    "plt.xlabel('x')\n",
    "plt.ylabel('y')\n",
    "plt.legend()\n",
    "plt.grid(True)\n",
    "plt.show()\n"
   ],
   "id": "db059735016e5194",
   "outputs": [
    {
     "ename": "KeyError",
     "evalue": "''",
     "output_type": "error",
     "traceback": [
      "\u001B[1;31m---------------------------------------------------------------------------\u001B[0m",
      "\u001B[1;31mKeyError\u001B[0m                                  Traceback (most recent call last)",
      "File \u001B[1;32mD:\\.anaconda\\Lib\\site-packages\\pandas\\core\\indexes\\base.py:3791\u001B[0m, in \u001B[0;36mIndex.get_loc\u001B[1;34m(self, key)\u001B[0m\n\u001B[0;32m   3790\u001B[0m \u001B[38;5;28;01mtry\u001B[39;00m:\n\u001B[1;32m-> 3791\u001B[0m     \u001B[38;5;28;01mreturn\u001B[39;00m \u001B[38;5;28mself\u001B[39m\u001B[38;5;241m.\u001B[39m_engine\u001B[38;5;241m.\u001B[39mget_loc(casted_key)\n\u001B[0;32m   3792\u001B[0m \u001B[38;5;28;01mexcept\u001B[39;00m \u001B[38;5;167;01mKeyError\u001B[39;00m \u001B[38;5;28;01mas\u001B[39;00m err:\n",
      "File \u001B[1;32mindex.pyx:152\u001B[0m, in \u001B[0;36mpandas._libs.index.IndexEngine.get_loc\u001B[1;34m()\u001B[0m\n",
      "File \u001B[1;32mindex.pyx:181\u001B[0m, in \u001B[0;36mpandas._libs.index.IndexEngine.get_loc\u001B[1;34m()\u001B[0m\n",
      "File \u001B[1;32mpandas\\_libs\\hashtable_class_helper.pxi:7080\u001B[0m, in \u001B[0;36mpandas._libs.hashtable.PyObjectHashTable.get_item\u001B[1;34m()\u001B[0m\n",
      "File \u001B[1;32mpandas\\_libs\\hashtable_class_helper.pxi:7088\u001B[0m, in \u001B[0;36mpandas._libs.hashtable.PyObjectHashTable.get_item\u001B[1;34m()\u001B[0m\n",
      "\u001B[1;31mKeyError\u001B[0m: ''",
      "\nThe above exception was the direct cause of the following exception:\n",
      "\u001B[1;31mKeyError\u001B[0m                                  Traceback (most recent call last)",
      "Cell \u001B[1;32mIn[25], line 12\u001B[0m\n\u001B[0;32m     10\u001B[0m umap1 \u001B[38;5;241m=\u001B[39m adata\u001B[38;5;241m.\u001B[39mobs[\u001B[38;5;124m'\u001B[39m\u001B[38;5;124mx\u001B[39m\u001B[38;5;124m'\u001B[39m]\n\u001B[0;32m     11\u001B[0m umap2 \u001B[38;5;241m=\u001B[39m adata\u001B[38;5;241m.\u001B[39mobs[\u001B[38;5;124m'\u001B[39m\u001B[38;5;124my\u001B[39m\u001B[38;5;124m'\u001B[39m]\n\u001B[1;32m---> 12\u001B[0m cell_types \u001B[38;5;241m=\u001B[39m adata\u001B[38;5;241m.\u001B[39mobs[\u001B[38;5;124m'\u001B[39m\u001B[38;5;124m'\u001B[39m]\n\u001B[0;32m     14\u001B[0m \u001B[38;5;66;03m# 3. 绘制散点图\u001B[39;00m\n\u001B[0;32m     15\u001B[0m plt\u001B[38;5;241m.\u001B[39mfigure(figsize\u001B[38;5;241m=\u001B[39m(\u001B[38;5;241m10\u001B[39m, \u001B[38;5;241m8\u001B[39m))\n",
      "File \u001B[1;32mD:\\.anaconda\\Lib\\site-packages\\pandas\\core\\frame.py:3893\u001B[0m, in \u001B[0;36mDataFrame.__getitem__\u001B[1;34m(self, key)\u001B[0m\n\u001B[0;32m   3891\u001B[0m \u001B[38;5;28;01mif\u001B[39;00m \u001B[38;5;28mself\u001B[39m\u001B[38;5;241m.\u001B[39mcolumns\u001B[38;5;241m.\u001B[39mnlevels \u001B[38;5;241m>\u001B[39m \u001B[38;5;241m1\u001B[39m:\n\u001B[0;32m   3892\u001B[0m     \u001B[38;5;28;01mreturn\u001B[39;00m \u001B[38;5;28mself\u001B[39m\u001B[38;5;241m.\u001B[39m_getitem_multilevel(key)\n\u001B[1;32m-> 3893\u001B[0m indexer \u001B[38;5;241m=\u001B[39m \u001B[38;5;28mself\u001B[39m\u001B[38;5;241m.\u001B[39mcolumns\u001B[38;5;241m.\u001B[39mget_loc(key)\n\u001B[0;32m   3894\u001B[0m \u001B[38;5;28;01mif\u001B[39;00m is_integer(indexer):\n\u001B[0;32m   3895\u001B[0m     indexer \u001B[38;5;241m=\u001B[39m [indexer]\n",
      "File \u001B[1;32mD:\\.anaconda\\Lib\\site-packages\\pandas\\core\\indexes\\base.py:3798\u001B[0m, in \u001B[0;36mIndex.get_loc\u001B[1;34m(self, key)\u001B[0m\n\u001B[0;32m   3793\u001B[0m     \u001B[38;5;28;01mif\u001B[39;00m \u001B[38;5;28misinstance\u001B[39m(casted_key, \u001B[38;5;28mslice\u001B[39m) \u001B[38;5;129;01mor\u001B[39;00m (\n\u001B[0;32m   3794\u001B[0m         \u001B[38;5;28misinstance\u001B[39m(casted_key, abc\u001B[38;5;241m.\u001B[39mIterable)\n\u001B[0;32m   3795\u001B[0m         \u001B[38;5;129;01mand\u001B[39;00m \u001B[38;5;28many\u001B[39m(\u001B[38;5;28misinstance\u001B[39m(x, \u001B[38;5;28mslice\u001B[39m) \u001B[38;5;28;01mfor\u001B[39;00m x \u001B[38;5;129;01min\u001B[39;00m casted_key)\n\u001B[0;32m   3796\u001B[0m     ):\n\u001B[0;32m   3797\u001B[0m         \u001B[38;5;28;01mraise\u001B[39;00m InvalidIndexError(key)\n\u001B[1;32m-> 3798\u001B[0m     \u001B[38;5;28;01mraise\u001B[39;00m \u001B[38;5;167;01mKeyError\u001B[39;00m(key) \u001B[38;5;28;01mfrom\u001B[39;00m \u001B[38;5;21;01merr\u001B[39;00m\n\u001B[0;32m   3799\u001B[0m \u001B[38;5;28;01mexcept\u001B[39;00m \u001B[38;5;167;01mTypeError\u001B[39;00m:\n\u001B[0;32m   3800\u001B[0m     \u001B[38;5;66;03m# If we have a listlike key, _check_indexing_error will raise\u001B[39;00m\n\u001B[0;32m   3801\u001B[0m     \u001B[38;5;66;03m#  InvalidIndexError. Otherwise we fall through and re-raise\u001B[39;00m\n\u001B[0;32m   3802\u001B[0m     \u001B[38;5;66;03m#  the TypeError.\u001B[39;00m\n\u001B[0;32m   3803\u001B[0m     \u001B[38;5;28mself\u001B[39m\u001B[38;5;241m.\u001B[39m_check_indexing_error(key)\n",
      "\u001B[1;31mKeyError\u001B[0m: ''"
     ]
    }
   ],
   "execution_count": 25
  },
  {
   "metadata": {
    "ExecuteTime": {
     "end_time": "2024-07-24T12:01:34.963067Z",
     "start_time": "2024-07-24T12:01:34.953883Z"
    }
   },
   "cell_type": "code",
   "source": [
    "# 检查是否有基因表达矩阵\n",
    "print(adata.X)\n",
    "\n",
    "# 检查是否有其他未排序的信息\n",
    "print(adata.uns)\n"
   ],
   "id": "93d8fda9b5c3e4e0",
   "outputs": [
    {
     "name": "stdout",
     "output_type": "stream",
     "text": [
      "[[0.         0.01062147 0.00682809 ... 0.         0.         0.        ]\n",
      " [0.         0.         0.03354811 ... 0.         0.         0.        ]\n",
      " [0.         0.         0.         ... 0.         0.         0.        ]\n",
      " ...\n",
      " [0.00914961 0.         0.         ... 0.         0.         0.        ]\n",
      " [0.         0.         0.00533876 ... 0.         0.         0.        ]\n",
      " [0.         0.         0.         ... 0.         0.04220587 0.        ]]\n",
      "OrderedDict()\n"
     ]
    }
   ],
   "execution_count": 23
  },
  {
   "metadata": {
    "ExecuteTime": {
     "end_time": "2024-07-24T13:25:01.471341Z",
     "start_time": "2024-07-24T13:25:01.462839Z"
    }
   },
   "cell_type": "code",
   "source": [
    "obs_columns = adata.obs.columns\n",
    "print(\"Observation (cell) metadata columns:\")\n",
    "print(obs_columns)"
   ],
   "id": "1dcb4a6de4152480",
   "outputs": [
    {
     "name": "stdout",
     "output_type": "stream",
     "text": [
      "Observation (cell) metadata columns:\n",
      "Index(['x', 'y'], dtype='object')\n"
     ]
    }
   ],
   "execution_count": 27
  },
  {
   "metadata": {
    "ExecuteTime": {
     "end_time": "2024-07-24T13:25:37.322878Z",
     "start_time": "2024-07-24T13:25:37.316800Z"
    }
   },
   "cell_type": "code",
   "source": [
    "cell_type_present = 'cell_type' in obs_columns\n",
    "print(f\"'cell_type' column present: {cell_type_present}\")\n"
   ],
   "id": "d7860dda7f5151c8",
   "outputs": [
    {
     "name": "stdout",
     "output_type": "stream",
     "text": [
      "'cell_type' column present: False\n"
     ]
    }
   ],
   "execution_count": 28
  },
  {
   "metadata": {
    "ExecuteTime": {
     "end_time": "2024-07-24T13:29:42.693398Z",
     "start_time": "2024-07-24T13:29:42.676347Z"
    }
   },
   "cell_type": "code",
   "source": "adata.obs.columns",
   "id": "463844907a4c97df",
   "outputs": [
    {
     "data": {
      "text/plain": [
       "Index(['x', 'y'], dtype='object')"
      ]
     },
     "execution_count": 29,
     "metadata": {},
     "output_type": "execute_result"
    }
   ],
   "execution_count": 29
  },
  {
   "metadata": {
    "ExecuteTime": {
     "end_time": "2024-07-24T13:36:06.186402Z",
     "start_time": "2024-07-24T13:36:06.177799Z"
    }
   },
   "cell_type": "code",
   "source": [
    "import anndata as ad\n",
    "\n",
    "# 假设 adata 是已经加载的 AnnData 对象\n",
    "# 1. 检查.obs属性中的列名\n",
    "obs_columns = adata.obs.columns\n",
    "\n",
    "# 打印所有列名\n",
    "print(\"Observation (cell) metadata columns:\")\n",
    "print(obs_columns)"
   ],
   "id": "8110d74cea05d7c1",
   "outputs": [
    {
     "name": "stdout",
     "output_type": "stream",
     "text": [
      "Observation (cell) metadata columns:\n",
      "Index(['x', 'y'], dtype='object')\n"
     ]
    }
   ],
   "execution_count": 30
  },
  {
   "metadata": {
    "ExecuteTime": {
     "end_time": "2024-07-24T13:53:14.906552Z",
     "start_time": "2024-07-24T13:53:14.892934Z"
    }
   },
   "cell_type": "code",
   "source": [
    "import anndata as ad\n",
    "import matplotlib.pyplot as plt\n",
    "\n",
    "# 假设 adata 是已经加载的 AnnData 对象\n",
    "# 1. 检查.obs属性中的列名\n",
    "obs_columns = adata.obs.columns\n",
    "\n",
    "# 打印所有列名\n",
    "print(\"Observation (cell) metadata columns:\")\n",
    "print(obs_columns)\n",
    "\n",
    "# 假设坐标存储在.obs中，列名为'x'和'y'\n",
    "x_column = 'x'\n",
    "y_column = 'y'\n",
    "\n",
    "# 假设类别信息存储在.obs中，列名为'cell_type'\n",
    "# 检查列名是否在.obs属性中存在\n",
    "cell_type_column = 'cell_type'\n",
    "cell_type_present = cell_type_column in obs_columns\n",
    "\n",
    "# 提取坐标和类别信息\n",
    "if cell_type_present:\n",
    "    cell_types = adata.obs[cell_type_column]\n",
    "else:\n",
    "    # 假设有一个替代的列名'cell_type_alternative'\n",
    "    cell_type_alternative_column = 'cell_type_alternative'\n",
    "    cell_type_alternative_present = cell_type_alternative_column in obs_columns\n",
    "    if cell_type_alternative_present:\n",
    "        cell_types = adata.obs[cell_type_alternative_column]\n",
    "    else:\n",
    "        print(\"Neither 'cell_type' nor 'cell_type_alternative' column is present in .obs metadata.\")\n",
    "        # 在此处理不存在类别信息的情况\n",
    "        # 例如，您可以使用所有细胞作为一个类别，或者使用一个特定的类别标签\n",
    "        cell_types = adata.obs.index\n",
    "\n"
   ],
   "id": "f2945bd572371d47",
   "outputs": [
    {
     "name": "stdout",
     "output_type": "stream",
     "text": [
      "Observation (cell) metadata columns:\n",
      "Index(['x', 'y'], dtype='object')\n",
      "Neither 'cell_type' nor 'cell_type_alternative' column is present in .obs metadata.\n"
     ]
    }
   ],
   "execution_count": 31
  },
  {
   "metadata": {
    "jupyter": {
     "is_executing": true
    }
   },
   "cell_type": "code",
   "source": [
    "# 2. 根据确定的列名提取坐标和类别信息\n",
    "# 提取坐标信息\n",
    "x = adata.obs[x_column]\n",
    "y = adata.obs[y_column]\n",
    "\n",
    "# 3. 使用提取的坐标和类别信息进行后续的数据分析和可视化\n",
    "# 绘制散点图\n",
    "plt.figure(figsize=(10, 8))\n",
    "for cell_type in cell_types.unique():\n",
    "    # 筛选属于特定类别的细胞\n",
    "    mask = cell_types == cell_type\n",
    "    plt.scatter(x[mask], y[mask], label=cell_type)\n",
    "\n",
    "plt.title('Cell Type UMAP Projection')\n",
    "plt.xlabel('UMAP 1')\n",
    "plt.ylabel('UMAP 2')\n",
    "plt.legend()\n",
    "plt.grid(True)\n",
    "plt.show()\n",
    "print(plt.show())"
   ],
   "id": "5965b622e9508dff",
   "outputs": [],
   "execution_count": null
  },
  {
   "metadata": {
    "jupyter": {
     "is_executing": true
    }
   },
   "cell_type": "code",
   "source": "",
   "id": "320c219437f0d54",
   "outputs": [],
   "execution_count": null
  },
  {
   "metadata": {},
   "cell_type": "code",
   "outputs": [],
   "execution_count": null,
   "source": "",
   "id": "50ee0a5a80fc3627"
  }
 ],
 "metadata": {
  "kernelspec": {
   "display_name": "Python 3",
   "language": "python",
   "name": "python3"
  },
  "language_info": {
   "codemirror_mode": {
    "name": "ipython",
    "version": 2
   },
   "file_extension": ".py",
   "mimetype": "text/x-python",
   "name": "python",
   "nbconvert_exporter": "python",
   "pygments_lexer": "ipython2",
   "version": "2.7.6"
  }
 },
 "nbformat": 4,
 "nbformat_minor": 5
}
