{
 "cells": [
  {
   "cell_type": "code",
   "id": "initial_id",
   "metadata": {
    "collapsed": true,
    "ExecuteTime": {
     "end_time": "2024-07-27T12:04:20.119547Z",
     "start_time": "2024-07-27T12:04:20.115799Z"
    }
   },
   "source": [
    "#检测当前版本\n",
    "import numpy as np\n",
    "import pandas as pd\n",
    "import anndata as ad\n",
    "from scipy.sparse import csr_matrix\n",
    "print(ad.__version__)"
   ],
   "outputs": [
    {
     "name": "stdout",
     "output_type": "stream",
     "text": [
      "0.10.8\n"
     ]
    }
   ],
   "execution_count": 3
  },
  {
   "metadata": {
    "ExecuteTime": {
     "end_time": "2024-07-27T12:26:16.658070Z",
     "start_time": "2024-07-27T12:26:16.574294Z"
    }
   },
   "cell_type": "code",
   "source": [
    "#初始化anndata\n",
    "#csr_matrix 是一种压缩稀疏矩阵\n",
    "counts = csr_matrix(np.random.randint(1, size=(100, 2000)), dtype=np.float32)\n",
    "adata = ad.AnnData(counts)#AnnData 是 anndata 库中的一个类，用于存储和分析单细胞RNA测序数据。\n",
    "adata #是一个anndata对象，包含一个稀疏矩阵counts，该矩阵代表了单细胞RNA测序数据的基因表达矩阵"
   ],
   "id": "e8ff1962d2dfd76",
   "outputs": [
    {
     "data": {
      "text/plain": [
       "AnnData object with n_obs × n_vars = 100 × 2000"
      ]
     },
     "execution_count": 4,
     "metadata": {},
     "output_type": "execute_result"
    }
   ],
   "execution_count": 4
  },
  {
   "metadata": {
    "ExecuteTime": {
     "end_time": "2024-07-27T12:27:21.623977Z",
     "start_time": "2024-07-27T12:27:21.613487Z"
    }
   },
   "cell_type": "code",
   "source": "adata.X",
   "id": "9ca0f1da011db058",
   "outputs": [
    {
     "data": {
      "text/plain": [
       "<100x2000 sparse matrix of type '<class 'numpy.float32'>'\n",
       "\twith 0 stored elements in Compressed Sparse Row format>"
      ]
     },
     "execution_count": 5,
     "metadata": {},
     "output_type": "execute_result"
    }
   ],
   "execution_count": 5
  },
  {
   "metadata": {
    "ExecuteTime": {
     "end_time": "2024-07-27T12:53:05.178046Z",
     "start_time": "2024-07-27T12:53:05.145920Z"
    }
   },
   "cell_type": "code",
   "source": [
    "adata.obs_names = [f\"Cell_{i:d}\" for i in range(adata.n_obs)]#f\"Cell_{i:d}\" 是一个格式化字符串，其中 f 表示这是一个格式化字符串，i 是循环变量，:d 是一个格式说明符，它将 i 转换为十进制数。\n",
    "adata.var_names = [f\"Gene_{i:d}\" for i in range(adata.n_vars)]\n",
    "print(adata.obs_names[:10])"
   ],
   "id": "ac67960a37b8bfc",
   "outputs": [
    {
     "name": "stdout",
     "output_type": "stream",
     "text": [
      "Index(['Cell_0', 'Cell_1', 'Cell_2', 'Cell_3', 'Cell_4', 'Cell_5', 'Cell_6',\n",
      "       'Cell_7', 'Cell_8', 'Cell_9'],\n",
      "      dtype='object')\n"
     ]
    }
   ],
   "execution_count": 6
  },
  {
   "metadata": {
    "ExecuteTime": {
     "end_time": "2024-07-27T13:03:15.618193Z",
     "start_time": "2024-07-27T13:03:15.583740Z"
    }
   },
   "cell_type": "code",
   "source": "adata[[\"Cell_1\", \"Cell_10\"], [\"Gene_5\", \"Gene_1900\"]]",
   "id": "73572737ef3019ab",
   "outputs": [
    {
     "data": {
      "text/plain": [
       "View of AnnData object with n_obs × n_vars = 2 × 2"
      ]
     },
     "execution_count": 7,
     "metadata": {},
     "output_type": "execute_result"
    }
   ],
   "execution_count": 7
  },
  {
   "metadata": {
    "ExecuteTime": {
     "end_time": "2024-07-27T16:00:21.175920Z",
     "start_time": "2024-07-27T16:00:20.946284Z"
    }
   },
   "cell_type": "code",
   "source": [
    "ct = np.random.choice([\"B\", \"T\", \"Monocyte\"], size=(adata.n_obs,))\n",
    "adata.obs[\"cell_type\"] = pd.Categorical(ct)  # Categoricals are preferred for efficiency\n",
    "adata.obs"
   ],
   "id": "76c7a09024f72417",
   "outputs": [
    {
     "data": {
      "text/plain": [
       "        cell_type\n",
       "Cell_0          T\n",
       "Cell_1          T\n",
       "Cell_2          T\n",
       "Cell_3          T\n",
       "Cell_4   Monocyte\n",
       "...           ...\n",
       "Cell_95  Monocyte\n",
       "Cell_96  Monocyte\n",
       "Cell_97         T\n",
       "Cell_98         B\n",
       "Cell_99         T\n",
       "\n",
       "[100 rows x 1 columns]"
      ],
      "text/html": [
       "<div>\n",
       "<style scoped>\n",
       "    .dataframe tbody tr th:only-of-type {\n",
       "        vertical-align: middle;\n",
       "    }\n",
       "\n",
       "    .dataframe tbody tr th {\n",
       "        vertical-align: top;\n",
       "    }\n",
       "\n",
       "    .dataframe thead th {\n",
       "        text-align: right;\n",
       "    }\n",
       "</style>\n",
       "<table border=\"1\" class=\"dataframe\">\n",
       "  <thead>\n",
       "    <tr style=\"text-align: right;\">\n",
       "      <th></th>\n",
       "      <th>cell_type</th>\n",
       "    </tr>\n",
       "  </thead>\n",
       "  <tbody>\n",
       "    <tr>\n",
       "      <th>Cell_0</th>\n",
       "      <td>T</td>\n",
       "    </tr>\n",
       "    <tr>\n",
       "      <th>Cell_1</th>\n",
       "      <td>T</td>\n",
       "    </tr>\n",
       "    <tr>\n",
       "      <th>Cell_2</th>\n",
       "      <td>T</td>\n",
       "    </tr>\n",
       "    <tr>\n",
       "      <th>Cell_3</th>\n",
       "      <td>T</td>\n",
       "    </tr>\n",
       "    <tr>\n",
       "      <th>Cell_4</th>\n",
       "      <td>Monocyte</td>\n",
       "    </tr>\n",
       "    <tr>\n",
       "      <th>...</th>\n",
       "      <td>...</td>\n",
       "    </tr>\n",
       "    <tr>\n",
       "      <th>Cell_95</th>\n",
       "      <td>Monocyte</td>\n",
       "    </tr>\n",
       "    <tr>\n",
       "      <th>Cell_96</th>\n",
       "      <td>Monocyte</td>\n",
       "    </tr>\n",
       "    <tr>\n",
       "      <th>Cell_97</th>\n",
       "      <td>T</td>\n",
       "    </tr>\n",
       "    <tr>\n",
       "      <th>Cell_98</th>\n",
       "      <td>B</td>\n",
       "    </tr>\n",
       "    <tr>\n",
       "      <th>Cell_99</th>\n",
       "      <td>T</td>\n",
       "    </tr>\n",
       "  </tbody>\n",
       "</table>\n",
       "<p>100 rows × 1 columns</p>\n",
       "</div>"
      ]
     },
     "execution_count": 8,
     "metadata": {},
     "output_type": "execute_result"
    }
   ],
   "execution_count": 8
  },
  {
   "metadata": {
    "ExecuteTime": {
     "end_time": "2024-07-28T01:51:44.800274Z",
     "start_time": "2024-07-28T01:51:44.787221Z"
    }
   },
   "cell_type": "code",
   "source": [
    "bdata = adata[adata.obs[\"cell_type\"] == \"B\"]#使用布尔索引从adata对象中选择所有true对应的细胞，即属性为“B”的细胞\n",
    "bdata"
   ],
   "id": "7a6aea4ea0c6fa9b",
   "outputs": [
    {
     "data": {
      "text/plain": [
       "View of AnnData object with n_obs × n_vars = 25 × 2000\n",
       "    obs: 'cell_type'"
      ]
     },
     "execution_count": 10,
     "metadata": {},
     "output_type": "execute_result"
    }
   ],
   "execution_count": 10
  },
  {
   "metadata": {},
   "cell_type": "code",
   "outputs": [],
   "execution_count": null,
   "source": "#umap是一种用于降维和可视化的无监督学习技术，将高维数据投影到二维或者三维空间中",
   "id": "ee63f3d84480860e"
  }
 ],
 "metadata": {
  "kernelspec": {
   "display_name": "Python 3",
   "language": "python",
   "name": "python3"
  },
  "language_info": {
   "codemirror_mode": {
    "name": "ipython",
    "version": 2
   },
   "file_extension": ".py",
   "mimetype": "text/x-python",
   "name": "python",
   "nbconvert_exporter": "python",
   "pygments_lexer": "ipython2",
   "version": "2.7.6"
  }
 },
 "nbformat": 4,
 "nbformat_minor": 5
}
